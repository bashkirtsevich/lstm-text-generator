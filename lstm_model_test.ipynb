{
 "cells": [
  {
   "cell_type": "code",
   "execution_count": 6,
   "metadata": {
    "colab": {
     "base_uri": "https://localhost:8080/",
     "height": 34
    },
    "colab_type": "code",
    "id": "ifH621qw77k2",
    "outputId": "6a2e1ce3-e9a3-4333-c452-af2c5fd6b130"
   },
   "outputs": [],
   "source": [
    "from keras.models import load_model\n",
    "from keras.utils.data_utils import get_file\n",
    "\n",
    "import numpy as np\n",
    "import random\n",
    "import io"
   ]
  },
  {
   "cell_type": "code",
   "execution_count": 9,
   "metadata": {},
   "outputs": [],
   "source": [
    "def sample(preds, temperature=1.0):\n",
    "    # helper function to sample an index from a probability array\n",
    "    preds = np.asarray(preds).astype('float64')\n",
    "    preds = np.log(preds) / temperature\n",
    "    exp_preds = np.exp(preds)\n",
    "    preds = exp_preds / np.sum(exp_preds)\n",
    "    probas = np.random.multinomial(1, preds, 1)\n",
    "    return np.argmax(probas)\n",
    "\n",
    "def gen_text(sentence, diversity, length=400):\n",
    "    generated = sentence\n",
    "    maxlen = 40\n",
    "\n",
    "    for i in range(length):\n",
    "        x_pred = np.zeros((1, maxlen, len(chars)))\n",
    "        for t, char in enumerate(sentence):\n",
    "            x_pred[0, t, char_indices[char]] = 1.\n",
    "\n",
    "        preds = model.predict(x_pred, verbose=0)[0]\n",
    "        next_index = sample(preds, diversity)\n",
    "        next_char = indices_char[next_index]\n",
    "\n",
    "        generated += next_char\n",
    "        sentence = sentence[1:] + next_char\n",
    "\n",
    "    return generated"
   ]
  },
  {
   "cell_type": "code",
   "execution_count": 10,
   "metadata": {},
   "outputs": [
    {
     "name": "stdout",
     "output_type": "stream",
     "text": [
      "corpus length: 13137488\n",
      "total chars: 123\n"
     ]
    }
   ],
   "source": [
    "path = get_file(\n",
    "    'lovecraft.txt',\n",
    "    origin='https://bashkirtsevich.pro/shared/lovecraft.txt'\n",
    ")\n",
    "\n",
    "with io.open(path, encoding='utf-8') as f:\n",
    "    text = f.read().lower()\n",
    "\n",
    "print('corpus length:', len(text))\n",
    "\n",
    "chars = sorted(list(set(text)))\n",
    "print('total chars:', len(chars))\n",
    "\n",
    "char_indices = dict((c, i) for i, c in enumerate(chars))\n",
    "indices_char = dict((i, c) for i, c in enumerate(chars))"
   ]
  },
  {
   "cell_type": "code",
   "execution_count": 15,
   "metadata": {},
   "outputs": [
    {
     "name": "stderr",
     "output_type": "stream",
     "text": [
      "/home/mad/.pyenv/versions/anaconda3-5.3.0/lib/python3.7/site-packages/ipykernel_launcher.py:4: RuntimeWarning: divide by zero encountered in log\n",
      "  after removing the cwd from sys.path.\n"
     ]
    },
    {
     "name": "stdout",
     "output_type": "stream",
     "text": [
      "пришел специально для того что бы иаа аенюмлю .   .к  ии..  ит  к  щ у ыуиуенммкенеен..нуммм,к,  тк ш,иа  л  н ла,,  аннеев иукиеимве  ауе уе к  уаее,    му уааеен  уаеее.еон ии ен и  к \n",
      "с.с к,  ркччен,  еии  кке сиюмвве ,  слни   мр  ук  у аеиоа  к о л  м м н у  нн цкькя.н   ,  т   луе  щ и со л   мл  и еннев  лк  ыыунннте.кн.  ет  у   уак.е,    с м мм е,  к с  м.с а   мемрже у  тк.  у а  ацтыуь.     в уаю.в.н,,уинм, т   к л ,  я\n",
      "---\n",
      "пришел специально для того что бы ииа аеа.  н яе с июмсо .   м  р м м ,  в  ,  ев  ен  аи,  к рр  н  ы уа    мм н ,   з   уа,  аа.еце    и, ,  ккке  иинме ауе а ааеан,,,,а,ююо    и е,с  о  иие  ииииииииа имоо рав ,    ,.   т лскуыенунеаа заюиюиаоои , н с иемя.  я  с  лу.ку  иуе еане  ук ,,  яквл,ш,в   .аценме, ,, нч,ел,еылеиенендчек.   я ис ук.сид ланеева ии  уеенео ео..июм   ак.  в  шу..,  яынн,,,,и    , к ,, к    мквеонн,  в ея.\n",
      "---\n",
      "пришел специально для того что бы иаа аеиаеааауюу ;   й к  м о  м   и е  к  у цкуня.    .  ,  я ,  щкиу  л м,  кыснси      еееен.немомо.   .   у  аемууу,  яыл,,    й.,, \n",
      "ь ин  е,  ри м  еу уаее.  к  у у аеу   рем н и ,   к   н,  ,  л ,  н   нм у к щкиуя.   , кчиа ,  ел, с т ммуеенмо  д ууе е енвкяякы нл,   цы янн.  л м  уеен иясус и  иев ,   й,  ,к .ин,  ,. е  с л на уиу уые н,   к  щяо.чьет оииоовмммм  ,  щсс кисиуякето   л  лк  \n",
      "---\n",
      "пришел специально для того что бы иаа аеиааеаоу.    мм   ем.  к   м.,  к т ,   ,  ет уу укен,ен  и у аеен,  ю    мм мевев  л нкся ет   л м  зев нки и  р  т .с,  ссс ти.   ик.с  л иу  уену аа.нен и т  ию.кин  иеуеаеаео,иа,     е жляен.ню.еа   .ссик, си ел  у,е   уюь,,т  иу ,  в ен  ла  ииу аа   ааае, ,    ,  т я   .кщ иу  е   иеневуеаа.и,е   \n",
      " м й  мм  нт чнееянн,,  , н  с лра иукк\n",
      " ся уысм мввеу   мм .    м   лмм  ен.емммо ы ,  ,,\n",
      "---\n"
     ]
    }
   ],
   "source": [
    "model = load_model(\"lovecraft/model_52.h5\")\n",
    "\n",
    "for diversity in [0.2, 0.5, 1.0, 1.2]:\n",
    "    print(gen_text(\"пришел специально для того что бы \", diversity))\n",
    "    print(\"---\")"
   ]
  }
 ],
 "metadata": {
  "accelerator": "GPU",
  "colab": {
   "name": "lstm_text_generation.ipynb",
   "provenance": [],
   "version": "0.3.2"
  },
  "kernelspec": {
   "display_name": "Python 3",
   "language": "python",
   "name": "python3"
  },
  "language_info": {
   "codemirror_mode": {
    "name": "ipython",
    "version": 3
   },
   "file_extension": ".py",
   "mimetype": "text/x-python",
   "name": "python",
   "nbconvert_exporter": "python",
   "pygments_lexer": "ipython3",
   "version": "3.7.1"
  }
 },
 "nbformat": 4,
 "nbformat_minor": 2
}
