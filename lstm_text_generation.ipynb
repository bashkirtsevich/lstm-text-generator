{
  "nbformat": 4,
  "nbformat_minor": 0,
  "metadata": {
    "colab": {
      "name": "lstm_text_generation.ipynb",
      "version": "0.3.2",
      "provenance": []
    },
    "kernelspec": {
      "name": "python3",
      "display_name": "Python 3"
    },
    "accelerator": "GPU"
  },
  "cells": [
    {
      "metadata": {
        "id": "LgTMNQr677kz",
        "colab_type": "text"
      },
      "cell_type": "markdown",
      "source": [
        "# LSTM text generation"
      ]
    },
    {
      "metadata": {
        "id": "MhttYUNo77k1",
        "colab_type": "text"
      },
      "cell_type": "markdown",
      "source": [
        "Example script to generate text from text files.\n",
        "\n",
        "At least 20 epochs are required before the generated text starts sounding coherent.\n",
        "\n",
        "It is recommended to run this script on GPU, as recurrent networks are quite computationally intensive.\n",
        "\n",
        "If you try this script on new data, make sure your corpus has at least ~100k characters. ~1M is better."
      ]
    },
    {
      "metadata": {
        "id": "ifH621qw77k2",
        "colab_type": "code",
        "colab": {
          "base_uri": "https://localhost:8080/",
          "height": 34
        },
        "outputId": "6a2e1ce3-e9a3-4333-c452-af2c5fd6b130"
      },
      "cell_type": "code",
      "source": [
        "from __future__ import print_function\n",
        "from keras.callbacks import LambdaCallback\n",
        "from keras.models import Sequential\n",
        "from keras.layers import Dense\n",
        "from keras.layers import LSTM\n",
        "from keras.optimizers import RMSprop\n",
        "from keras.utils.data_utils import get_file\n",
        "from keras.utils import Sequence\n",
        "from keras.callbacks import EarlyStopping\n",
        "import numpy as np\n",
        "import random\n",
        "import io"
      ],
      "execution_count": 1,
      "outputs": [
        {
          "output_type": "stream",
          "text": [
            "Using TensorFlow backend.\n"
          ],
          "name": "stderr"
        }
      ]
    },
    {
      "metadata": {
        "id": "4RE5YewP77k9",
        "colab_type": "code",
        "colab": {}
      },
      "cell_type": "code",
      "source": [
        "class DataGenerator(Sequence):\n",
        "    def __init__(self, text, char_indices, batch_size=128, maxlen=40, step=3):\n",
        "        self.text = text\n",
        "        self.char_indices = char_indices\n",
        "        self.batch_size = batch_size\n",
        "        self.maxlen = maxlen\n",
        "        self.step = step\n",
        "\n",
        "    def __len__(self):\n",
        "        return ((len(self.text) - self.maxlen) // self.step) // self.batch_size\n",
        "\n",
        "    def __getitem__(self, index):\n",
        "        x = np.zeros((self.batch_size, self.maxlen, len(self.char_indices)), dtype=np.bool)\n",
        "        y = np.zeros((self.batch_size, len(self.char_indices)), dtype=np.bool)\n",
        "\n",
        "        for i in range(self.batch_size):\n",
        "            idx = (i + index) * self.step\n",
        "\n",
        "            for t, char in enumerate(self.text[idx: idx + self.maxlen]):\n",
        "                x[i, t, self.char_indices[char]] = 1\n",
        "\n",
        "            y[i, self.char_indices[self.text[idx + self.maxlen]]] = 1\n",
        "\n",
        "        return x, y"
      ],
      "execution_count": 0,
      "outputs": []
    },
    {
      "metadata": {
        "id": "LPPBV02j77lD",
        "colab_type": "code",
        "colab": {
          "base_uri": "https://localhost:8080/",
          "height": 85
        },
        "outputId": "043afa15-ebf2-45ea-cd89-6a783da9b7f6"
      },
      "cell_type": "code",
      "source": [
        "path = get_file(\n",
        "    'lovecraft.txt',\n",
        "    origin='https://bashkirtsevich.pro/shared/lovecraft.txt'  # https://s3.amazonaws.com/text-datasets/nietzsche.txt\n",
        ")\n",
        "\n",
        "with io.open(path, encoding='utf-8') as f:\n",
        "    text = f.read().lower()\n",
        "\n",
        "print('corpus length:', len(text))\n",
        "\n",
        "chars = sorted(list(set(text)))\n",
        "print('total chars:', len(chars))\n",
        "\n",
        "char_indices = dict((c, i) for i, c in enumerate(chars))\n",
        "indices_char = dict((i, c) for i, c in enumerate(chars))"
      ],
      "execution_count": 3,
      "outputs": [
        {
          "output_type": "stream",
          "text": [
            "Downloading data from https://bashkirtsevich.pro/shared/lovecraft.txt\n",
            "23977984/23972914 [==============================] - 25s 1us/step\n",
            "corpus length: 13137488\n",
            "total chars: 123\n"
          ],
          "name": "stdout"
        }
      ]
    },
    {
      "metadata": {
        "id": "DjnHLEAQ77lI",
        "colab_type": "code",
        "colab": {}
      },
      "cell_type": "code",
      "source": [
        "maxlen = 40  # cut the text in semi-redundant sequences of maxlen characters\n",
        "training_generator = DataGenerator(text, char_indices, maxlen=maxlen)"
      ],
      "execution_count": 0,
      "outputs": []
    },
    {
      "metadata": {
        "id": "HBY-wKj-77lO",
        "colab_type": "text"
      },
      "cell_type": "markdown",
      "source": [
        "## Build the model: a single LSTM"
      ]
    },
    {
      "metadata": {
        "id": "9o2W_0qw77lR",
        "colab_type": "code",
        "colab": {}
      },
      "cell_type": "code",
      "source": [
        "def sample(preds, temperature=1.0):\n",
        "    # helper function to sample an index from a probability array\n",
        "    preds = np.asarray(preds).astype('float64')\n",
        "    preds = np.log(preds) / temperature\n",
        "    exp_preds = np.exp(preds)\n",
        "    preds = exp_preds / np.sum(exp_preds)\n",
        "    probas = np.random.multinomial(1, preds, 1)\n",
        "    return np.argmax(probas)\n",
        "\n",
        "\n",
        "def on_epoch_end(epoch, _):\n",
        "    print('----- Generating text after Epoch: %d' % epoch)\n",
        "\n",
        "    start_index = random.randint(0, len(text) - maxlen - 1)\n",
        "    for diversity in [0.2, 0.5, 1.0, 1.2]:\n",
        "        print('----- diversity:', diversity)\n",
        "\n",
        "        generated = ''\n",
        "        sentence = text[start_index: start_index + maxlen]\n",
        "        generated += sentence\n",
        "        print('----- Generating with seed: \"' + sentence + '\"')\n",
        "\n",
        "        for i in range(400):\n",
        "            x_pred = np.zeros((1, maxlen, len(chars)))\n",
        "            for t, char in enumerate(sentence):\n",
        "                x_pred[0, t, char_indices[char]] = 1.\n",
        "\n",
        "            preds = model.predict(x_pred, verbose=0)[0]\n",
        "            next_index = sample(preds, diversity)\n",
        "            next_char = indices_char[next_index]\n",
        "\n",
        "            generated += next_char\n",
        "            sentence = sentence[1:] + next_char\n",
        "\n",
        "        print(generated)"
      ],
      "execution_count": 0,
      "outputs": []
    },
    {
      "metadata": {
        "id": "MotBNxq877lU",
        "colab_type": "code",
        "colab": {
          "base_uri": "https://localhost:8080/",
          "height": 68
        },
        "outputId": "ead26964-81cb-4c8b-9b04-f445b84c52be"
      },
      "cell_type": "code",
      "source": [
        "model = Sequential()\n",
        "model.add(LSTM(128, input_shape=(maxlen, len(chars))))\n",
        "model.add(Dense(len(chars), activation='softmax'))\n",
        "\n",
        "optimizer = RMSprop(lr=0.01)\n",
        "model.compile(loss='categorical_crossentropy', optimizer=optimizer)"
      ],
      "execution_count": 6,
      "outputs": [
        {
          "output_type": "stream",
          "text": [
            "WARNING:tensorflow:From /usr/local/lib/python3.6/dist-packages/tensorflow/python/framework/op_def_library.py:263: colocate_with (from tensorflow.python.framework.ops) is deprecated and will be removed in a future version.\n",
            "Instructions for updating:\n",
            "Colocations handled automatically by placer.\n"
          ],
          "name": "stdout"
        }
      ]
    },
    {
      "metadata": {
        "id": "BPZY4N2D77la",
        "colab_type": "code",
        "colab": {
          "base_uri": "https://localhost:8080/",
          "height": 2580
        },
        "outputId": "ae9a85d8-baf4-4f4c-caa1-6bb5a6696ce1"
      },
      "cell_type": "code",
      "source": [
        "model.fit_generator(\n",
        "    generator=training_generator,\n",
        "    validation_data=training_generator,\n",
        "    epochs=60,\n",
        "    callbacks=[\n",
        "        LambdaCallback(on_epoch_end=on_epoch_end),\n",
        "        EarlyStopping(monitor=\"loss\", min_delta=0.001, patience=3, mode=\"min\")\n",
        "    ],\n",
        ")"
      ],
      "execution_count": 7,
      "outputs": [
        {
          "output_type": "stream",
          "text": [
            "WARNING:tensorflow:From /usr/local/lib/python3.6/dist-packages/tensorflow/python/ops/math_ops.py:3066: to_int32 (from tensorflow.python.ops.math_ops) is deprecated and will be removed in a future version.\n",
            "Instructions for updating:\n",
            "Use tf.cast instead.\n",
            "Epoch 1/60\n",
            "34212/34212 [==============================] - 4222s 123ms/step - loss: 0.8576 - val_loss: 0.4589\n",
            "----- Generating text after Epoch: 0\n",
            "----- diversity: 0.2\n",
            "----- Generating with seed: \" в своем воображении я часто рисовал нев\"\n",
            " в своем воображении я часто рисовал невилание о нетиском было выстим светом было были слуги последнего ли большего праграми, не смедла деревой немубысь у верл не обреть берего, который сневших потоковить ящико попротевеся к ним к можно в города и даворидом, у эте. что последнего медленные негом, подожде в темное оббывитые всему злогов, моь себе не отеником стене, достойм, что встомы межала, когда он приять на глазили камонны люд, после\n",
            "----- diversity: 0.5\n",
            "----- Generating with seed: \" в своем воображении я часто рисовал нев\"\n"
          ],
          "name": "stdout"
        },
        {
          "output_type": "stream",
          "text": [
            "/usr/local/lib/python3.6/dist-packages/ipykernel_launcher.py:4: RuntimeWarning: divide by zero encountered in log\n",
            "  after removing the cwd from sys.path.\n"
          ],
          "name": "stderr"
        },
        {
          "output_type": "stream",
          "text": [
            " в своем воображении я часто рисовал невилан, что холминая сил, когда еще свое столько течтожили обнури над днем самом прокинето лео, слова, покостился ему времено и поляпыванное подграбе в темное сообнной стерами младного городовогоненсими и поятил попроясному себе не открате лесь. постарался в силиние в родазанием людом, что я последную легенди рез постично старанности, последню. не предолгеней. из лерапиным неуверхвались к течительно\n",
            "----- diversity: 1.0\n",
            "----- Generating with seed: \" в своем воображении я часто рисовал нев\"\n",
            " в своем воображении я часто рисовал невилание склепе, развый клясный клемы, в черно разорченадной лишного подобно подрял я больше. толеко последную лье, постирался катый датер в сила темной деревь постарался корабль от стлатие не покладил с крикной камне тромом и заплечищие и из своих прежде словно надвершеней гамоть к тогу, :д ожинь обширал его у нигалось катибля постраатьсящугом прописиного убровозом, тремивому же в лее встоку разост\n",
            "----- diversity: 1.2\n",
            "----- Generating with seed: \" в своем воображении я часто рисовал нев\"\n",
            " в своем воображении я часто рисовал невилание в лесу, с замка и егдаз в бельй череди постарается соображнейших пор болотоком, когда ткоих бизами. всявился люде, тому и, разочения человек весьфаки мая боробо и над не посешел о него. но и себя и избрать всяком сонеком правотилось привалед, стамажение не верхечи-тю, и карлили уставало ее, увидетьися его прамед в чернок постаческой смерч, но сэроко много башно и иливбо видел нача, наконец,\n",
            "Epoch 2/60\n",
            "34212/34212 [==============================] - 4268s 125ms/step - loss: 0.3781 - val_loss: 0.3064\n",
            "----- Generating text after Epoch: 1\n",
            "----- diversity: 0.2\n",
            "----- Generating with seed: \"ервые в жизни я испытывал ужас. я начал \"\n",
            "ервые в жизни я испытывал ужас. я начал развел, по на себя закой тем на глазани модрищена, а полнял с помнил страна возмя жил себе сим, что она последнего, что вел, постияги поклывал были невето продверился привестной береге, древню. мне подвибе выого снова страна и франоца обгрых вещесее. я больше бого досточное странство лет трань моему вечение о таким бродь иномы на упоминни, я понял, что вечесо вечер воды нем дохожде из городе .\n",
            "и щ\n",
            "----- diversity: 0.5\n",
            "----- Generating with seed: \"ервые в жизни я испытывал ужас. я начал \"\n",
            "ервые в жизни я испытывал ужас. я начал развел, по на запредел завольноком. чемностью столько просиднею, сопротим в питом, что вечесовенику, ходя прикизовал чередон. что прокоторые было с кроходкую мог лье, болое принестой дне я утенти, с комушиталась и так мотерким звуких. антур после свотей восполнение с совордался. воздомно, он был бы открался с пемчаь, горе превершую жизнь, слевно присстатал ему в другу, соша, и они дверь их счени, \n",
            "----- diversity: 1.0\n",
            "----- Generating with seed: \"ервые в жизни я испытывал ужас. я начал \"\n",
            "ервые в жизни я испытывал ужас. я начал резгова привез сраз, к красставле из, свидет стапило назад, сдалялся, ведьми окно графавании. венто ющие о пахрами. потока, соре севет ро. под яскостиалфмно напрещае с отвый тознище от роста, странно похропочинее луна, так позящен город этат шече старием обгаходили, в моим пребым.\n",
            "изой, прев расть сим, с род с -зох зумком презнули, но можно было с принетнымифраков, которые, корабль берте устали го\n",
            "----- diversity: 1.2\n",
            "----- Generating with seed: \"ервые в жизни я испытывал ужас. я начал \"\n",
            "ервые в жизни я испытывал ужас. я начал своих подну, стал с бравное присколне ухоняны дух жилитованнымиму мук от любом. солековые и больше, тому оказалось, смех небозняваллом уже молго забыть. и мне уше довности тропитанта раз. не изхузно ледненные дьежезнавшего простивали, который был слета, назолеку, что по тепутухвут тем жерта раздывала конагах обитителяк с город себе с них превратя упоговяник, и купасил размеривютно леса. прикрепкие\n",
            "Epoch 3/60\n",
            "34212/34212 [==============================] - 4073s 119ms/step - loss: 0.2853 - val_loss: 0.2504\n",
            "----- Generating text after Epoch: 2\n",
            "----- diversity: 0.2\n",
            "----- Generating with seed: \" пройдя несколько шагов, мы наткнулись н\"\n",
            " пройдя несколько шагов, мы наткнулись на дверьгу, которые я ласшленные среди рвуг окрылоточку, пемнот оставил у кончты от мог награди легли в другу к морег дворительный ходроть были услебу, более полине всем, когда глеб менувся. в коновезниту в течени дальше и слугнем не от исшленному и в затение сему зывки.\n",
            "в крубоменто, и можлобо меня поягалось в гловорижены долгифих этих местно, глобоне в поддь разраком необезал этот стал подобна в \n",
            "----- diversity: 0.5\n",
            "----- Generating with seed: \" пройдя несколько шагов, мы наткнулись н\"\n",
            " пройдя несколько шагов, мы наткнулись на двушкй, что застал бертьво открыло собртатительность, что она дежда сраходил о страшных из средная, что испнот ведени блесья уй под береге новернулся на обширждения. всяго старии, оттал всем, не от лушичественные тело каменк от сталое жились этиму рассказываться в дом, и, сильоб этих меревенными отмрался, по моистейны и слададь всем, когда впичил поддалерь их собетом не молеецы и почубее, увнеко\n",
            "----- diversity: 1.0\n",
            "----- Generating with seed: \" пройдя несколько шагов, мы наткнулись н\"\n",
            " пройдя несколько шагов, мы наткнулись на другуми мыстом. склепнен возмождоч, мне подво же продмерство соличают мое сево обрежил мне улоско, последуюь которого пониз, докумился и одну от счал, что продостольше старый, с низовало ее чего него стариемы и больше на доме в голое которочки, и следующее произвели от молочь, вено при дом не претул навернули и походу жель имчаить потокое, когда бержа, выписым что человек на тепнул сего предьеме\n",
            "----- diversity: 1.2\n",
            "----- Generating with seed: \" пройдя несколько шагов, мы наткнулись н\"\n",
            " пройдя несколько шагов, мы наткнулись на дверью, и выбы ее в странноту и забрей пою шленошаю схиронность взглянуть на болодо прев себят\n",
            "африканские в неголочнуй \n",
            "взкой и сновалильнах и фи.фисцы, зому, как пявывало те, человек в прозрешным прицемани. в дустух хоте изошал в заклидинских потих пыть, хоть исторые были было напомящам голое. она не изгазыв в моих предстой. снова страги, не на иссющей поши ослучие часоходанно однум умермих аф\n",
            "Epoch 4/60\n",
            "34212/34212 [==============================] - 4189s 122ms/step - loss: 0.2467 - val_loss: 0.2264\n",
            "----- Generating text after Epoch: 3\n",
            "----- diversity: 0.2\n",
            "----- Generating with seed: \"енных веков их краски ничуть не потускне\"\n",
            "енных веков их краски ничуть не потускне тропитанный, остаковать, на исстали в белой болото старый, он вершую голова испольчом старик в себя, и была последней было, и сонинизных фенном среди блингих особред на поколиты и бесстазал пополагично круг оказались не ведон кончена, а залету не вершенную топут рекенся. то что ведимосто было подребилох, жудь через не помнал громо, покинал в их снца. он высоко в бымя иской бродостой вечесию, когд\n",
            "----- diversity: 0.5\n",
            "----- Generating with seed: \"енных веков их краски ничуть не потускне\"\n",
            "енных веков их краски ничуть не потускне графа, дремял в артка известной ведком. но зароду дной род. арецве, ручит. впитать моего комотоянцы, в такие таинственной по ужный рассказание в проходных человекое-тог, по тьпе ута, берчли в другуми предметя.. но, его старих усказывал его старанно и похпатрой сводные таительность, которые упределенной сеннюго не одна болото с такой предшедвел глаза, на и заканяломожелать нестолить от своих предк\n",
            "----- diversity: 1.0\n",
            "----- Generating with seed: \"енных веков их краски ничуть не потускне\"\n",
            "енных веков их краски ничуть не потускне графа. разоложенным болотону, пенял леция, горый кое-добхом и в тешми распатренние сверх, что это забовита столкно и непредявили на глаз, возручаих лесоко понативлянь этот оксынние, что старый, с гапите в другу оксылеть раньше. таправеднее лесне повесее и сжклание тринатительные этих мнофировал из проствился в полудох забывали, на мощать бы, предтелеские усы в были с городком. когда это словалоны\n",
            "----- diversity: 1.2\n",
            "----- Generating with seed: \"енных веков их краски ничуть не потускне\"\n",
            "енных веков их краски ничуть не потускне. трени страшный физализали. так по моих бес совершую сладеннымим ликатера мечем. вечетными фостигантся было изгивились ответ род. мне себяэт — смешанной покинула мне у склой дворцишный кранив, все жиз весями покинулся, что он ве. после смерти, что однако же все веком. он окнуме золотой островки потричения ходу по титутного мере горогом образенных неухормив, и в коненному себу нед никому настиялся\n",
            "Epoch 5/60\n",
            "34212/34212 [==============================] - 4019s 117ms/step - loss: 0.2238 - val_loss: 0.2158\n",
            "----- Generating text after Epoch: 4\n",
            "----- diversity: 0.2\n",
            "----- Generating with seed: \"мя суток для проведения эксперимента, ис\"\n",
            "мя суток для проведения эксперимента, исполобние сына неянничего не взбяз. скле нестолился не морей полабление обо этот себянным в конца располитреть моей остной усемения. в которого миновысь в крайнее вообхажних женю. неувиданий нели броснего простирлегими мраманных событий недостойни. я проходил премения было принял протурижалебе прибрать молейки убидаленный хотя бы основ затевенными бродождения, когда это смешанного его менком первыв\n",
            "----- diversity: 0.5\n",
            "----- Generating with seed: \"мя суток для проведения эксперимента, ис\"\n",
            "мя суток для проведения эксперимента, исшею недним самого другом всего простирали лунамения. морого, с ним степени перед себя, привил что с горазыв. в конца нарыл ничти, по вековые трофание кретов заки, к скроглякув в тредка, ее я волной затевала ьшедными в мрачными у крайнко. гроба к и зародливых лиши облах, слышавшие коморатных феннеру не изгова конец, когда подвинутился помпамщам в в катутий гробовили надвершей попитанные старого вет\n",
            "----- diversity: 1.0\n",
            "----- Generating with seed: \"мя суток для проведения эксперимента, ис\"\n",
            "мя суток для проведения эксперимента, исы с комдала и ролотилком моей здестечисы выбы карык не мествере. трача, выбы привизанных сняв, сдел гробсты, слетыми размер днюго сообразных обитанах мне мюжилтом юмонными, мокума. в двинал преду от молейно бельго многочеловали, когда двинуть все жизнителя схоротными страна, и глубокий кое-каки воры была науты блиситетвира такал, пополым. неруми. так опистал его округи о нализненной при, покинетел\n",
            "----- diversity: 1.2\n",
            "----- Generating with seed: \"мя суток для проведения эксперимента, ис\"\n",
            "мя суток для проведения эксперимента, исыотомины и сладких сонюстя, по моих проти, ведениющия жизнью, и я необезал его кий и следшие храмном своее. родовалось о страшный, и я над никой дакнула, ее, увые в отвстельно на двинуть на поляти привикали на гробовыв в викой, скловы дочительный храми инар. зо всего упоминал, что под зреким в никомуымы. в мастах менк манял улейный берега, из лишностенными сметах.\n",
            "когда это изветельной коставлего \n",
            "Epoch 6/60\n",
            " 7511/34212 [=====>........................] - ETA: 36:59 - loss: 0.2137"
          ],
          "name": "stdout"
        },
        {
          "output_type": "error",
          "ename": "KeyboardInterrupt",
          "evalue": "ignored",
          "traceback": [
            "\u001b[0;31m---------------------------------------------------------------------------\u001b[0m",
            "\u001b[0;31mKeyboardInterrupt\u001b[0m                         Traceback (most recent call last)",
            "\u001b[0;32m<ipython-input-7-ef4d1998c20e>\u001b[0m in \u001b[0;36m<module>\u001b[0;34m()\u001b[0m\n\u001b[1;32m      5\u001b[0m     callbacks=[\n\u001b[1;32m      6\u001b[0m         \u001b[0mLambdaCallback\u001b[0m\u001b[0;34m(\u001b[0m\u001b[0mon_epoch_end\u001b[0m\u001b[0;34m=\u001b[0m\u001b[0mon_epoch_end\u001b[0m\u001b[0;34m)\u001b[0m\u001b[0;34m,\u001b[0m\u001b[0;34m\u001b[0m\u001b[0;34m\u001b[0m\u001b[0m\n\u001b[0;32m----> 7\u001b[0;31m         \u001b[0mEarlyStopping\u001b[0m\u001b[0;34m(\u001b[0m\u001b[0mmonitor\u001b[0m\u001b[0;34m=\u001b[0m\u001b[0;34m\"loss\"\u001b[0m\u001b[0;34m,\u001b[0m \u001b[0mmin_delta\u001b[0m\u001b[0;34m=\u001b[0m\u001b[0;36m0.001\u001b[0m\u001b[0;34m,\u001b[0m \u001b[0mpatience\u001b[0m\u001b[0;34m=\u001b[0m\u001b[0;36m3\u001b[0m\u001b[0;34m,\u001b[0m \u001b[0mmode\u001b[0m\u001b[0;34m=\u001b[0m\u001b[0;34m\"min\"\u001b[0m\u001b[0;34m)\u001b[0m\u001b[0;34m\u001b[0m\u001b[0;34m\u001b[0m\u001b[0m\n\u001b[0m\u001b[1;32m      8\u001b[0m     ],\n\u001b[1;32m      9\u001b[0m )\n",
            "\u001b[0;32m/usr/local/lib/python3.6/dist-packages/keras/legacy/interfaces.py\u001b[0m in \u001b[0;36mwrapper\u001b[0;34m(*args, **kwargs)\u001b[0m\n\u001b[1;32m     89\u001b[0m                 warnings.warn('Update your `' + object_name + '` call to the ' +\n\u001b[1;32m     90\u001b[0m                               'Keras 2 API: ' + signature, stacklevel=2)\n\u001b[0;32m---> 91\u001b[0;31m             \u001b[0;32mreturn\u001b[0m \u001b[0mfunc\u001b[0m\u001b[0;34m(\u001b[0m\u001b[0;34m*\u001b[0m\u001b[0margs\u001b[0m\u001b[0;34m,\u001b[0m \u001b[0;34m**\u001b[0m\u001b[0mkwargs\u001b[0m\u001b[0;34m)\u001b[0m\u001b[0;34m\u001b[0m\u001b[0;34m\u001b[0m\u001b[0m\n\u001b[0m\u001b[1;32m     92\u001b[0m         \u001b[0mwrapper\u001b[0m\u001b[0;34m.\u001b[0m\u001b[0m_original_function\u001b[0m \u001b[0;34m=\u001b[0m \u001b[0mfunc\u001b[0m\u001b[0;34m\u001b[0m\u001b[0;34m\u001b[0m\u001b[0m\n\u001b[1;32m     93\u001b[0m         \u001b[0;32mreturn\u001b[0m \u001b[0mwrapper\u001b[0m\u001b[0;34m\u001b[0m\u001b[0;34m\u001b[0m\u001b[0m\n",
            "\u001b[0;32m/usr/local/lib/python3.6/dist-packages/keras/engine/training.py\u001b[0m in \u001b[0;36mfit_generator\u001b[0;34m(self, generator, steps_per_epoch, epochs, verbose, callbacks, validation_data, validation_steps, class_weight, max_queue_size, workers, use_multiprocessing, shuffle, initial_epoch)\u001b[0m\n\u001b[1;32m   1416\u001b[0m             \u001b[0muse_multiprocessing\u001b[0m\u001b[0;34m=\u001b[0m\u001b[0muse_multiprocessing\u001b[0m\u001b[0;34m,\u001b[0m\u001b[0;34m\u001b[0m\u001b[0;34m\u001b[0m\u001b[0m\n\u001b[1;32m   1417\u001b[0m             \u001b[0mshuffle\u001b[0m\u001b[0;34m=\u001b[0m\u001b[0mshuffle\u001b[0m\u001b[0;34m,\u001b[0m\u001b[0;34m\u001b[0m\u001b[0;34m\u001b[0m\u001b[0m\n\u001b[0;32m-> 1418\u001b[0;31m             initial_epoch=initial_epoch)\n\u001b[0m\u001b[1;32m   1419\u001b[0m \u001b[0;34m\u001b[0m\u001b[0m\n\u001b[1;32m   1420\u001b[0m     \u001b[0;34m@\u001b[0m\u001b[0minterfaces\u001b[0m\u001b[0;34m.\u001b[0m\u001b[0mlegacy_generator_methods_support\u001b[0m\u001b[0;34m\u001b[0m\u001b[0;34m\u001b[0m\u001b[0m\n",
            "\u001b[0;32m/usr/local/lib/python3.6/dist-packages/keras/engine/training_generator.py\u001b[0m in \u001b[0;36mfit_generator\u001b[0;34m(model, generator, steps_per_epoch, epochs, verbose, callbacks, validation_data, validation_steps, class_weight, max_queue_size, workers, use_multiprocessing, shuffle, initial_epoch)\u001b[0m\n\u001b[1;32m    215\u001b[0m                 outs = model.train_on_batch(x, y,\n\u001b[1;32m    216\u001b[0m                                             \u001b[0msample_weight\u001b[0m\u001b[0;34m=\u001b[0m\u001b[0msample_weight\u001b[0m\u001b[0;34m,\u001b[0m\u001b[0;34m\u001b[0m\u001b[0;34m\u001b[0m\u001b[0m\n\u001b[0;32m--> 217\u001b[0;31m                                             class_weight=class_weight)\n\u001b[0m\u001b[1;32m    218\u001b[0m \u001b[0;34m\u001b[0m\u001b[0m\n\u001b[1;32m    219\u001b[0m                 \u001b[0mouts\u001b[0m \u001b[0;34m=\u001b[0m \u001b[0mto_list\u001b[0m\u001b[0;34m(\u001b[0m\u001b[0mouts\u001b[0m\u001b[0;34m)\u001b[0m\u001b[0;34m\u001b[0m\u001b[0;34m\u001b[0m\u001b[0m\n",
            "\u001b[0;32m/usr/local/lib/python3.6/dist-packages/keras/engine/training.py\u001b[0m in \u001b[0;36mtrain_on_batch\u001b[0;34m(self, x, y, sample_weight, class_weight)\u001b[0m\n\u001b[1;32m   1215\u001b[0m             \u001b[0mins\u001b[0m \u001b[0;34m=\u001b[0m \u001b[0mx\u001b[0m \u001b[0;34m+\u001b[0m \u001b[0my\u001b[0m \u001b[0;34m+\u001b[0m \u001b[0msample_weights\u001b[0m\u001b[0;34m\u001b[0m\u001b[0;34m\u001b[0m\u001b[0m\n\u001b[1;32m   1216\u001b[0m         \u001b[0mself\u001b[0m\u001b[0;34m.\u001b[0m\u001b[0m_make_train_function\u001b[0m\u001b[0;34m(\u001b[0m\u001b[0;34m)\u001b[0m\u001b[0;34m\u001b[0m\u001b[0;34m\u001b[0m\u001b[0m\n\u001b[0;32m-> 1217\u001b[0;31m         \u001b[0moutputs\u001b[0m \u001b[0;34m=\u001b[0m \u001b[0mself\u001b[0m\u001b[0;34m.\u001b[0m\u001b[0mtrain_function\u001b[0m\u001b[0;34m(\u001b[0m\u001b[0mins\u001b[0m\u001b[0;34m)\u001b[0m\u001b[0;34m\u001b[0m\u001b[0;34m\u001b[0m\u001b[0m\n\u001b[0m\u001b[1;32m   1218\u001b[0m         \u001b[0;32mreturn\u001b[0m \u001b[0munpack_singleton\u001b[0m\u001b[0;34m(\u001b[0m\u001b[0moutputs\u001b[0m\u001b[0;34m)\u001b[0m\u001b[0;34m\u001b[0m\u001b[0;34m\u001b[0m\u001b[0m\n\u001b[1;32m   1219\u001b[0m \u001b[0;34m\u001b[0m\u001b[0m\n",
            "\u001b[0;32m/usr/local/lib/python3.6/dist-packages/keras/backend/tensorflow_backend.py\u001b[0m in \u001b[0;36m__call__\u001b[0;34m(self, inputs)\u001b[0m\n\u001b[1;32m   2713\u001b[0m                 \u001b[0;32mreturn\u001b[0m \u001b[0mself\u001b[0m\u001b[0;34m.\u001b[0m\u001b[0m_legacy_call\u001b[0m\u001b[0;34m(\u001b[0m\u001b[0minputs\u001b[0m\u001b[0;34m)\u001b[0m\u001b[0;34m\u001b[0m\u001b[0;34m\u001b[0m\u001b[0m\n\u001b[1;32m   2714\u001b[0m \u001b[0;34m\u001b[0m\u001b[0m\n\u001b[0;32m-> 2715\u001b[0;31m             \u001b[0;32mreturn\u001b[0m \u001b[0mself\u001b[0m\u001b[0;34m.\u001b[0m\u001b[0m_call\u001b[0m\u001b[0;34m(\u001b[0m\u001b[0minputs\u001b[0m\u001b[0;34m)\u001b[0m\u001b[0;34m\u001b[0m\u001b[0;34m\u001b[0m\u001b[0m\n\u001b[0m\u001b[1;32m   2716\u001b[0m         \u001b[0;32melse\u001b[0m\u001b[0;34m:\u001b[0m\u001b[0;34m\u001b[0m\u001b[0;34m\u001b[0m\u001b[0m\n\u001b[1;32m   2717\u001b[0m             \u001b[0;32mif\u001b[0m \u001b[0mpy_any\u001b[0m\u001b[0;34m(\u001b[0m\u001b[0mis_tensor\u001b[0m\u001b[0;34m(\u001b[0m\u001b[0mx\u001b[0m\u001b[0;34m)\u001b[0m \u001b[0;32mfor\u001b[0m \u001b[0mx\u001b[0m \u001b[0;32min\u001b[0m \u001b[0minputs\u001b[0m\u001b[0;34m)\u001b[0m\u001b[0;34m:\u001b[0m\u001b[0;34m\u001b[0m\u001b[0;34m\u001b[0m\u001b[0m\n",
            "\u001b[0;32m/usr/local/lib/python3.6/dist-packages/keras/backend/tensorflow_backend.py\u001b[0m in \u001b[0;36m_call\u001b[0;34m(self, inputs)\u001b[0m\n\u001b[1;32m   2673\u001b[0m             \u001b[0mfetched\u001b[0m \u001b[0;34m=\u001b[0m \u001b[0mself\u001b[0m\u001b[0;34m.\u001b[0m\u001b[0m_callable_fn\u001b[0m\u001b[0;34m(\u001b[0m\u001b[0;34m*\u001b[0m\u001b[0marray_vals\u001b[0m\u001b[0;34m,\u001b[0m \u001b[0mrun_metadata\u001b[0m\u001b[0;34m=\u001b[0m\u001b[0mself\u001b[0m\u001b[0;34m.\u001b[0m\u001b[0mrun_metadata\u001b[0m\u001b[0;34m)\u001b[0m\u001b[0;34m\u001b[0m\u001b[0;34m\u001b[0m\u001b[0m\n\u001b[1;32m   2674\u001b[0m         \u001b[0;32melse\u001b[0m\u001b[0;34m:\u001b[0m\u001b[0;34m\u001b[0m\u001b[0;34m\u001b[0m\u001b[0m\n\u001b[0;32m-> 2675\u001b[0;31m             \u001b[0mfetched\u001b[0m \u001b[0;34m=\u001b[0m \u001b[0mself\u001b[0m\u001b[0;34m.\u001b[0m\u001b[0m_callable_fn\u001b[0m\u001b[0;34m(\u001b[0m\u001b[0;34m*\u001b[0m\u001b[0marray_vals\u001b[0m\u001b[0;34m)\u001b[0m\u001b[0;34m\u001b[0m\u001b[0;34m\u001b[0m\u001b[0m\n\u001b[0m\u001b[1;32m   2676\u001b[0m         \u001b[0;32mreturn\u001b[0m \u001b[0mfetched\u001b[0m\u001b[0;34m[\u001b[0m\u001b[0;34m:\u001b[0m\u001b[0mlen\u001b[0m\u001b[0;34m(\u001b[0m\u001b[0mself\u001b[0m\u001b[0;34m.\u001b[0m\u001b[0moutputs\u001b[0m\u001b[0;34m)\u001b[0m\u001b[0;34m]\u001b[0m\u001b[0;34m\u001b[0m\u001b[0;34m\u001b[0m\u001b[0m\n\u001b[1;32m   2677\u001b[0m \u001b[0;34m\u001b[0m\u001b[0m\n",
            "\u001b[0;32m/usr/local/lib/python3.6/dist-packages/tensorflow/python/client/session.py\u001b[0m in \u001b[0;36m__call__\u001b[0;34m(self, *args, **kwargs)\u001b[0m\n\u001b[1;32m   1437\u001b[0m           ret = tf_session.TF_SessionRunCallable(\n\u001b[1;32m   1438\u001b[0m               \u001b[0mself\u001b[0m\u001b[0;34m.\u001b[0m\u001b[0m_session\u001b[0m\u001b[0;34m.\u001b[0m\u001b[0m_session\u001b[0m\u001b[0;34m,\u001b[0m \u001b[0mself\u001b[0m\u001b[0;34m.\u001b[0m\u001b[0m_handle\u001b[0m\u001b[0;34m,\u001b[0m \u001b[0margs\u001b[0m\u001b[0;34m,\u001b[0m \u001b[0mstatus\u001b[0m\u001b[0;34m,\u001b[0m\u001b[0;34m\u001b[0m\u001b[0;34m\u001b[0m\u001b[0m\n\u001b[0;32m-> 1439\u001b[0;31m               run_metadata_ptr)\n\u001b[0m\u001b[1;32m   1440\u001b[0m         \u001b[0;32mif\u001b[0m \u001b[0mrun_metadata\u001b[0m\u001b[0;34m:\u001b[0m\u001b[0;34m\u001b[0m\u001b[0;34m\u001b[0m\u001b[0m\n\u001b[1;32m   1441\u001b[0m           \u001b[0mproto_data\u001b[0m \u001b[0;34m=\u001b[0m \u001b[0mtf_session\u001b[0m\u001b[0;34m.\u001b[0m\u001b[0mTF_GetBuffer\u001b[0m\u001b[0;34m(\u001b[0m\u001b[0mrun_metadata_ptr\u001b[0m\u001b[0;34m)\u001b[0m\u001b[0;34m\u001b[0m\u001b[0;34m\u001b[0m\u001b[0m\n",
            "\u001b[0;31mKeyboardInterrupt\u001b[0m: "
          ]
        }
      ]
    }
  ]
}